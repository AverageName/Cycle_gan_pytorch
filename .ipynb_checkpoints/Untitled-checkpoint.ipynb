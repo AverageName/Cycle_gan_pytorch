{
 "cells": [
  {
   "cell_type": "code",
   "execution_count": 1,
   "metadata": {},
   "outputs": [],
   "source": [
    "import torch\n",
    "import os\n",
    "import torch.nn as nn\n",
    "import torchvision\n",
    "from torch.utils.data.dataloader import DataLoader\n",
    "from torch.utils.data.dataset import Dataset\n",
    "import torch.nn.functional as F\n",
    "os.environ[\"CUDA_VISIBLE_DEVICES\"] = \"3\""
   ]
  },
  {
   "cell_type": "code",
   "execution_count": 2,
   "metadata": {},
   "outputs": [],
   "source": [
    "def D_loss(G, D, X, Y):\n",
    "    return torch.sum(torch.pow((D(Y) - 1), 2) + torch.pow(D(G(X)), 2)).item()\n",
    "\n",
    "\n",
    "def G_loss(G, D, X, Y):\n",
    "    return torch.pow((D(G(X)) - 1), 2).item()\n",
    "\n",
    "\n",
    "def CC_loss(F, G, X, Y):\n",
    "    return torch.sum(torch.abs(F(G(X)) - X)).item() + torch.sum(torch.abs(G(F(Y)) - Y)).item()"
   ]
  },
  {
   "cell_type": "code",
   "execution_count": 3,
   "metadata": {},
   "outputs": [],
   "source": [
    "def get_norm_module(name):\n",
    "    if name == \"batch\":\n",
    "        return nn.BatchNorm2d\n",
    "    elif name == \"instance\":\n",
    "        return nn.InstanceNorm2d\n",
    "    else:\n",
    "        return None"
   ]
  },
  {
   "cell_type": "code",
   "execution_count": 12,
   "metadata": {},
   "outputs": [],
   "source": [
    "class ConvNormRelu(nn.Module):\n",
    "    \n",
    "    def __init__(self, in_channels, out_channels, kernel_size, padding, stride, norm=\"batch\", leaky=True):\n",
    "        super(ConvNormRelu, self).__init__()\n",
    "        self.conv = nn.Conv2d(in_channels=in_channels, out_channels=out_channels,\n",
    "                              kernel_size=kernel_size, stride=stride, padding=padding)\n",
    "        self.leaky = leaky\n",
    "        if norm:\n",
    "            self.norm = get_norm_module(norm)(out_channels)\n",
    "        else:\n",
    "            self.norm = None\n",
    "        \n",
    "    def forward(self, inputs):\n",
    "        out = self.conv(inputs)\n",
    "        if self.norm is not None:\n",
    "            out = self.norm(out)\n",
    "        if self.leaky:\n",
    "            return F.leaky_relu(out, negative_slope=0.2)\n",
    "        else:\n",
    "            return F.relu(out)"
   ]
  },
  {
   "cell_type": "code",
   "execution_count": 13,
   "metadata": {},
   "outputs": [],
   "source": [
    "class PatchGan(nn.Module):\n",
    "    \n",
    "    def __init__(self, input_channels):\n",
    "        super(PatchGan, self).__init__()\n",
    "        \n",
    "        self.layer1 = ConvNormRelu(in_channels=input_channels, out_channels=64, kernel_size=4,\n",
    "                                        padding=1, stride=2, norm=None)\n",
    "        self.layer2 = ConvNormRelu(in_channels=64, out_channels=128, kernel_size=4,\n",
    "                                        padding=1, stride=2, norm=\"instance\")\n",
    "        self.layer3 = ConvNormRelu(in_channels=128, out_channels=256, kernel_size=4,\n",
    "                                        padding=1, stride=2, norm=\"instance\")\n",
    "        #self.layer4 = ConvBatchNormRelu(in_channels=256, out_channels=512, kernel_size=4,\n",
    "         #                               padding=1, stride=2, batch_norm=True)\n",
    "        self.layer4 = ConvNormRelu(in_channels=256, out_channels=512, kernel_size=4,\n",
    "                                        padding=1, stride=1, norm=\"instance\")\n",
    "        \n",
    "        self.conv_fc = nn.Conv2d(in_channels=512, out_channels=1, kernel_size=4,\n",
    "                                 padding=1, stride=1)\n",
    "    \n",
    "    def forward(self, inputs):\n",
    "        out = self.layer1(inputs)\n",
    "        print(out.shape)\n",
    "        out = self.layer2(out)\n",
    "        print(out.shape)\n",
    "        out = self.layer3(out)\n",
    "        print(out.shape)\n",
    "        out = self.layer4(out)\n",
    "        print(out.shape)\n",
    "        out = self.conv_fc(out)\n",
    "        print(out.shape)\n",
    "        return F.sigmoid(out)"
   ]
  },
  {
   "cell_type": "code",
   "execution_count": 14,
   "metadata": {},
   "outputs": [
    {
     "name": "stdout",
     "output_type": "stream",
     "text": [
      "torch.Size([1, 64, 35, 35])\n",
      "torch.Size([1, 128, 17, 17])\n",
      "torch.Size([1, 256, 8, 8])\n",
      "torch.Size([1, 512, 7, 7])\n",
      "torch.Size([1, 1, 6, 6])\n"
     ]
    },
    {
     "name": "stderr",
     "output_type": "stream",
     "text": [
      "/home/dpakhom1/anaconda3/lib/python3.7/site-packages/torch/nn/functional.py:1006: UserWarning: nn.functional.sigmoid is deprecated. Use torch.sigmoid instead.\n",
      "  warnings.warn(\"nn.functional.sigmoid is deprecated. Use torch.sigmoid instead.\")\n"
     ]
    },
    {
     "data": {
      "text/plain": [
       "tensor([[[[0.4569, 0.5738, 0.4923, 0.5224, 0.6979, 0.5511],\n",
       "          [0.4973, 0.4911, 0.6229, 0.4602, 0.5074, 0.5137],\n",
       "          [0.6649, 0.4951, 0.4231, 0.5061, 0.4202, 0.3765],\n",
       "          [0.5196, 0.5555, 0.6070, 0.5324, 0.5049, 0.6752],\n",
       "          [0.4822, 0.5369, 0.6859, 0.5000, 0.4043, 0.4785],\n",
       "          [0.4345, 0.3758, 0.4491, 0.4949, 0.5090, 0.5586]]]],\n",
       "       grad_fn=<SigmoidBackward>)"
      ]
     },
     "execution_count": 14,
     "metadata": {},
     "output_type": "execute_result"
    }
   ],
   "source": [
    "data = torch.rand((1, 64, 70, 70))\n",
    "model = PatchGan(64)\n",
    "model(data)"
   ]
  },
  {
   "cell_type": "code",
   "execution_count": 7,
   "metadata": {},
   "outputs": [],
   "source": [
    "class ResBlock(nn.Module):\n",
    "    \n",
    "    def __init__(self, in_planes, norm=\"batch\"):\n",
    "        super(ResBlock, self).__init__()\n",
    "        self.pad1 = nn.ReflectionPad2d(1)\n",
    "        self.pad2 = nn.ReflectionPad2d(1)\n",
    "        self.norm1 = get_norm_module(norm)(in_planes)\n",
    "        self.norm2 = get_norm_module(norm)(in_planes)\n",
    "        self.conv1 = nn.Conv2d(in_channels=in_planes, out_channels=in_planes, kernel_size=3)\n",
    "        self.conv2 = nn.Conv2d(in_channels=in_planes, out_channels=in_planes, kernel_size=3)\n",
    "        \n",
    "    def forward(self, inputs):\n",
    "        out = self.conv1(self.pad1(inputs))\n",
    "        out = F.relu(self.norm1(out))\n",
    "        out = self.conv2(self.pad2(out))\n",
    "        out = self.norm2(out)\n",
    "        return out + inputs"
   ]
  },
  {
   "cell_type": "code",
   "execution_count": 15,
   "metadata": {},
   "outputs": [
    {
     "ename": "SyntaxError",
     "evalue": "invalid syntax (<ipython-input-15-7b3c27757c3a>, line 12)",
     "output_type": "error",
     "traceback": [
      "\u001b[0;36m  File \u001b[0;32m\"<ipython-input-15-7b3c27757c3a>\"\u001b[0;36m, line \u001b[0;32m12\u001b[0m\n\u001b[0;31m    self.blocks.append(ConvNormRelu(in_channels=))\u001b[0m\n\u001b[0m                                                ^\u001b[0m\n\u001b[0;31mSyntaxError\u001b[0m\u001b[0;31m:\u001b[0m invalid syntax\n"
     ]
    }
   ],
   "source": [
    "class ResnetGenerator(nn.Module):\n",
    "    \n",
    "    def __init__(self, in_channels, n_blocks):\n",
    "        super(ResnetGenerator, self).__init__()\n",
    "        \n",
    "        self.conv1 = ConvNormRelu(in_channels=in_channels, out_channels=64, kernel_size=7,\n",
    "                                       padding=3, stride=1, norm=\"instance\", leaky=False)\n",
    "        self.conv2 = ConvNormRelu(in_channels=64, out_channels=128, kernel_size=3,\n",
    "                                  padding=1, stride=2, norm=\"instance\", leaky=False)\n",
    "        self.blocks = []\n",
    "        for i in range(n_blocks):\n",
    "            self.blocks.append(ConvNormRelu(in_channels=))"
   ]
  },
  {
   "cell_type": "code",
   "execution_count": null,
   "metadata": {},
   "outputs": [],
   "source": []
  }
 ],
 "metadata": {
  "kernelspec": {
   "display_name": "Python 3",
   "language": "python",
   "name": "python3"
  },
  "language_info": {
   "codemirror_mode": {
    "name": "ipython",
    "version": 3
   },
   "file_extension": ".py",
   "mimetype": "text/x-python",
   "name": "python",
   "nbconvert_exporter": "python",
   "pygments_lexer": "ipython3",
   "version": "3.7.3"
  }
 },
 "nbformat": 4,
 "nbformat_minor": 2
}
