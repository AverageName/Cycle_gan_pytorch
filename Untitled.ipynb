{
 "cells": [
  {
   "cell_type": "code",
   "execution_count": 1,
   "metadata": {},
   "outputs": [],
   "source": [
    "import torch\n",
    "import os\n",
    "import torch.nn as nn\n",
    "import torchvision\n",
    "from torch.utils.data.dataloader import DataLoader\n",
    "from torch.utils.data.dataset import Dataset\n",
    "import torch.nn.functional as F\n",
    "os.environ[\"CUDA_VISIBLE_DEVICES\"] = \"3\""
   ]
  },
  {
   "cell_type": "code",
   "execution_count": 2,
   "metadata": {},
   "outputs": [],
   "source": [
    "def D_loss(G, D, X, Y):\n",
    "    return torch.sum(torch.pow((D(Y) - 1), 2) + torch.pow(D(G(X)), 2)).item()\n",
    "\n",
    "\n",
    "def G_loss(G, D, X, Y):\n",
    "    return torch.pow((D(G(X)) - 1), 2).item()\n",
    "\n",
    "\n",
    "def CC_loss(F, G, X, Y):\n",
    "    return torch.sum(torch.abs(F(G(X)) - X)).item() + torch.sum(torch.abs(G(F(Y)) - Y)).item()"
   ]
  },
  {
   "cell_type": "code",
   "execution_count": 3,
   "metadata": {},
   "outputs": [],
   "source": [
    "def get_norm_module(name):\n",
    "    if name == \"batch\":\n",
    "        return nn.BatchNorm2d\n",
    "    elif name == \"instance\":\n",
    "        return nn.InstanceNorm2d\n",
    "    else:\n",
    "        return None"
   ]
  },
  {
   "cell_type": "code",
   "execution_count": 38,
   "metadata": {},
   "outputs": [],
   "source": [
    "class ConvNormRelu(nn.Module):\n",
    "    \n",
    "    def __init__(self, in_channels, out_channels, kernel_size, padding=(1, \"zeros\"),\n",
    "                 stride=1, norm=\"batch\", leaky=True, conv_type=\"forward\"):\n",
    "        super(ConvNormRelu, self).__init__()\n",
    "        if padding[1] == \"zeros\":\n",
    "            self.pad = None\n",
    "            if conv_type == \"forward\":\n",
    "                self.conv = nn.Conv2d(in_channels=in_channels, out_channels=out_channels,\n",
    "                                      kernel_size=kernel_size, stride=stride, padding=padding[0])\n",
    "            elif conv_type == \"transpose\":\n",
    "                self.conv = nn.ConvTranspose2d(in_channels=in_channels, out_channels=out_channels,\n",
    "                                      kernel_size=kernel_size, stride=stride, padding=padding[0], output_padding=padding[0])\n",
    "        elif padding[1] == \"reflection\":\n",
    "            if conv_type == \"forward\":\n",
    "                self.conv = nn.Conv2d(in_channels=in_channels, out_channels=out_channels,\n",
    "                                      kernel_size=kernel_size, stride=stride)\n",
    "                self.pad = nn.ReflectionPad2d(padding[0])\n",
    "            elif conv_type == \"transpose\":\n",
    "                self.conv = nn.ConvTranspose2d(in_channels=in_channels, out_channels=out_channels,\n",
    "                                      kernel_size=kernel_size, stride=stride, output_padding=padding[0])\n",
    "                self.pad = None\n",
    "            \n",
    "            \n",
    "        self.leaky = leaky\n",
    "        if norm:\n",
    "            self.norm = get_norm_module(norm)(out_channels)\n",
    "        else:\n",
    "            self.norm = None\n",
    "        \n",
    "    def forward(self, inputs):\n",
    "        out = inputs\n",
    "        if self.pad is not None:\n",
    "            out = self.pad(out)\n",
    "        print(out.shape)\n",
    "        out = self.conv(out)\n",
    "        print(out.shape)\n",
    "        if self.norm is not None:\n",
    "            out = self.norm(out)\n",
    "        if self.leaky:\n",
    "            return F.leaky_relu(out, negative_slope=0.2)\n",
    "        else:\n",
    "            return F.relu(out)"
   ]
  },
  {
   "cell_type": "code",
   "execution_count": null,
   "metadata": {},
   "outputs": [],
   "source": []
  },
  {
   "cell_type": "code",
   "execution_count": 19,
   "metadata": {},
   "outputs": [],
   "source": [
    "#Figure out real PatchGan\n",
    "class PatchGan(nn.Module):\n",
    "    \n",
    "    def __init__(self, input_channels):\n",
    "        super(PatchGan, self).__init__()\n",
    "        \n",
    "        self.layer1 = ConvNormRelu(in_channels=input_channels, out_channels=64, kernel_size=4,\n",
    "                                        padding=(1, \"zeros\"), stride=2, norm=None)\n",
    "        self.layer2 = ConvNormRelu(in_channels=64, out_channels=128, kernel_size=4,\n",
    "                                        padding=(1, \"zeros\"), stride=2, norm=\"instance\")\n",
    "        self.layer3 = ConvNormRelu(in_channels=128, out_channels=256, kernel_size=4,\n",
    "                                        padding=(1, \"zeros\"), stride=2, norm=\"instance\")\n",
    "        #self.layer4 = ConvBatchNormRelu(in_channels=256, out_channels=512, kernel_size=4,\n",
    "         #                               padding=1, stride=2, batch_norm=True)\n",
    "        self.layer4 = ConvNormRelu(in_channels=256, out_channels=512, kernel_size=4,\n",
    "                                        padding=(1, \"zeros\"), stride=1, norm=\"instance\")\n",
    "        \n",
    "        self.conv_fc = nn.Conv2d(in_channels=512, out_channels=1, kernel_size=4,\n",
    "                                 padding=1, stride=1)\n",
    "    \n",
    "    def forward(self, inputs):\n",
    "        out = self.layer1(inputs)\n",
    "        print(out.shape)\n",
    "        out = self.layer2(out)\n",
    "        print(out.shape)\n",
    "        out = self.layer3(out)\n",
    "        print(out.shape)\n",
    "        out = self.layer4(out)\n",
    "        print(out.shape)\n",
    "        out = self.conv_fc(out)\n",
    "        print(out.shape)\n",
    "        return F.sigmoid(out)"
   ]
  },
  {
   "cell_type": "code",
   "execution_count": 10,
   "metadata": {},
   "outputs": [
    {
     "data": {
      "text/plain": [
       "torch.Size([1, 128, 143, 143])"
      ]
     },
     "execution_count": 10,
     "metadata": {},
     "output_type": "execute_result"
    }
   ],
   "source": [
    "data = torch.rand((1, 64, 70, 70))\n",
    "#model = PatchGan(64)\n",
    "layer = ConvNormRelu(in_channels=64, out_channels=128, kernel_size=3, stride=2, padding=(1, \"reflection\"),\n",
    "                     conv_type=\"transpose\")\n",
    "layer(data).shape"
   ]
  },
  {
   "cell_type": "code",
   "execution_count": 20,
   "metadata": {},
   "outputs": [],
   "source": [
    "class ResBlock(nn.Module):\n",
    "    \n",
    "    def __init__(self, in_planes, norm=\"batch\"):\n",
    "        super(ResBlock, self).__init__()\n",
    "        self.pad1 = nn.ReflectionPad2d(1)\n",
    "        self.pad2 = nn.ReflectionPad2d(1)\n",
    "        self.norm1 = get_norm_module(norm)(in_planes)\n",
    "        self.norm2 = get_norm_module(norm)(in_planes)\n",
    "        self.conv1 = nn.Conv2d(in_channels=in_planes, out_channels=in_planes, kernel_size=3)\n",
    "        self.conv2 = nn.Conv2d(in_channels=in_planes, out_channels=in_planes, kernel_size=3)\n",
    "        \n",
    "    def forward(self, inputs):\n",
    "        out = self.conv1(self.pad1(inputs))\n",
    "        out = F.relu(self.norm1(out))\n",
    "        out = self.conv2(self.pad2(out))\n",
    "        out = self.norm2(out)\n",
    "        return out + inputs"
   ]
  },
  {
   "cell_type": "code",
   "execution_count": 21,
   "metadata": {},
   "outputs": [],
   "source": [
    "class ResnetGenerator(nn.Module):\n",
    "    \n",
    "    def __init__(self, in_channels, n_blocks):\n",
    "        super(ResnetGenerator, self).__init__()\n",
    "        \n",
    "        self.conv1 = ConvNormRelu(in_channels=in_channels, out_channels=64, kernel_size=7,\n",
    "                                       padding=(3, \"reflection\"), stride=1, norm=\"instance\", leaky=False)\n",
    "        self.conv2 = ConvNormRelu(in_channels=64, out_channels=128, kernel_size=3,\n",
    "                                  padding=(1, \"reflection\"), stride=2, norm=\"instance\", leaky=False)\n",
    "        self.conv3 = ConvNormRelu(in_channels=128, out_channels=256, kernel_size=3,\n",
    "                                  padding=(1, \"reflection\"), stride=2, norm=\"instance\", leaky=False)\n",
    "        self.blocks = []\n",
    "        for i in range(n_blocks):\n",
    "            self.blocks.append(ConvNormRelu(in_channels=256, out_channels=256, kernel_size=3,\n",
    "                                            padding=(1, \"reflection\"), stride=1, norm=\"instance\", leaky=False))\n",
    "        self.conv4 = ConvNormRelu(in_channels=256, out_channels=128, kernel_size=3, \n",
    "                                  padding=(1, \"reflection\"), stride=2, norm=\"instance\", leaky=False, conv_type=\"transpose\")\n",
    "        self.conv5 = ConvNormRelu(in_channels=128, out_channels=64, kernel_size=3, \n",
    "                                  padding=(1, \"reflection\"), stride=2, norm=\"instance\", leaky=False, conv_type=\"transpose\")\n",
    "        self.conv6 = ConvNormRelu(in_channels=64, out_channels=3, kernel_size=7, \n",
    "                                  padding=(3, \"reflection\"), stride=1, norm=\"instance\", leaky=False)\n",
    "        \n",
    "    def forward(self, inputs):\n",
    "        out = self.conv1(inputs)\n",
    "        print(out.shape)\n",
    "        out = self.conv2(out)\n",
    "        print(out.shape)\n",
    "        out = self.conv3(out)\n",
    "        print(out.shape)\n",
    "        for block in self.blocks:\n",
    "            out = block(out)\n",
    "            print(out.shape)\n",
    "        out = self.conv4(out)\n",
    "        print(out.shape)\n",
    "        out = self.conv5(out)\n",
    "        print(out.shape)\n",
    "        out = self.conv6(out)\n",
    "        print(out.shape)\n",
    "        return out"
   ]
  },
  {
   "cell_type": "code",
   "execution_count": 22,
   "metadata": {},
   "outputs": [],
   "source": [
    "model = ResnetGenerator(256, 6)"
   ]
  },
  {
   "cell_type": "code",
   "execution_count": 13,
   "metadata": {},
   "outputs": [
    {
     "data": {
      "text/plain": [
       "ConvNormRelu(\n",
       "  (conv): Conv2d(256, 256, kernel_size=(3, 3), stride=(0.5, 0.5), padding=(1, 1))\n",
       "  (norm): BatchNorm2d(256, eps=1e-05, momentum=0.1, affine=True, track_running_stats=True)\n",
       ")"
      ]
     },
     "execution_count": 13,
     "metadata": {},
     "output_type": "execute_result"
    }
   ],
   "source": [
    "ConvNormRelu(in_channels=256, out_channels=256, kernel_size=3, stride=1/2)"
   ]
  },
  {
   "cell_type": "code",
   "execution_count": 24,
   "metadata": {},
   "outputs": [
    {
     "name": "stdout",
     "output_type": "stream",
     "text": [
      "torch.Size([1, 64, 256, 256])\n",
      "torch.Size([1, 128, 128, 128])\n",
      "torch.Size([1, 256, 64, 64])\n",
      "torch.Size([1, 256, 64, 64])\n",
      "torch.Size([1, 256, 64, 64])\n",
      "torch.Size([1, 256, 64, 64])\n",
      "torch.Size([1, 256, 64, 64])\n",
      "torch.Size([1, 256, 64, 64])\n",
      "torch.Size([1, 256, 64, 64])\n",
      "torch.Size([1, 128, 133, 133])\n",
      "torch.Size([1, 64, 271, 271])\n",
      "torch.Size([1, 3, 271, 271])\n",
      "torch.Size([1, 3, 271, 271])\n"
     ]
    }
   ],
   "source": [
    "data = torch.rand((1, 256, 256, 256))\n",
    "print(model(data).shape)"
   ]
  },
  {
   "cell_type": "code",
   "execution_count": 39,
   "metadata": {},
   "outputs": [],
   "source": [
    "layer = ConvNormRelu(in_channels=48, out_channels=128, kernel_size=3, \n",
    "                                  padding=(1, \"reflection\"), stride=2, norm=\"instance\", leaky=False, conv_type=\"transpose\")"
   ]
  },
  {
   "cell_type": "code",
   "execution_count": 40,
   "metadata": {},
   "outputs": [
    {
     "name": "stdout",
     "output_type": "stream",
     "text": [
      "torch.Size([1, 48, 256, 256])\n",
      "torch.Size([1, 128, 514, 514])\n",
      "torch.Size([1, 128, 514, 514])\n"
     ]
    }
   ],
   "source": [
    "data = torch.rand((1, 48, 256, 256))\n",
    "print(layer(data).shape)"
   ]
  },
  {
   "cell_type": "code",
   "execution_count": null,
   "metadata": {},
   "outputs": [],
   "source": []
  }
 ],
 "metadata": {
  "kernelspec": {
   "display_name": "Python 3",
   "language": "python",
   "name": "python3"
  },
  "language_info": {
   "codemirror_mode": {
    "name": "ipython",
    "version": 3
   },
   "file_extension": ".py",
   "mimetype": "text/x-python",
   "name": "python",
   "nbconvert_exporter": "python",
   "pygments_lexer": "ipython3",
   "version": "3.7.3"
  }
 },
 "nbformat": 4,
 "nbformat_minor": 2
}
