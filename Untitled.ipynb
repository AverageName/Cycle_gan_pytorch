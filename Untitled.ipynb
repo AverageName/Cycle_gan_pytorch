{
 "cells": [
  {
   "cell_type": "code",
   "execution_count": 1,
   "metadata": {},
   "outputs": [],
   "source": [
    "import torch\n",
    "import os\n",
    "import torch.nn as nn\n",
    "import torchvision\n",
    "from torch.utils.data.dataloader import DataLoader\n",
    "from torch.utils.data.dataset import Dataset\n",
    "import torch.nn.functional as F\n",
    "os.environ[\"CUDA_VISIBLE_DEVICES\"] = \"3\""
   ]
  },
  {
   "cell_type": "code",
   "execution_count": 2,
   "metadata": {},
   "outputs": [],
   "source": [
    "def D_loss(G, D, X, Y):\n",
    "    return torch.sum(torch.pow((D(Y) - 1), 2) + torch.pow(D(G(X)), 2)).item()\n",
    "\n",
    "\n",
    "def G_loss(G, D, X, Y):\n",
    "    return torch.pow((D(G(X)) - 1), 2).item()\n",
    "\n",
    "\n",
    "def CC_loss(F, G, X, Y):\n",
    "    return torch.sum(torch.abs(F(G(X)) - X)).item() + torch.sum(torch.abs(G(F(Y)) - Y)).item()"
   ]
  },
  {
   "cell_type": "code",
   "execution_count": 3,
   "metadata": {},
   "outputs": [],
   "source": [
    "def get_norm_module(name):\n",
    "    if name == \"batch\":\n",
    "        return nn.BatchNorm2d\n",
    "    elif name == \"instance\":\n",
    "        return nn.InstanceNorm2d\n",
    "    else:\n",
    "        return None"
   ]
  },
  {
   "cell_type": "code",
   "execution_count": 4,
   "metadata": {},
   "outputs": [],
   "source": [
    "class ConvNormRelu(nn.Module):\n",
    "    \n",
    "    def __init__(self, in_channels, out_channels, kernel_size, padding, stride, norm=\"batch\"):\n",
    "        super(ConvNormRelu, self).__init__()\n",
    "        self.conv = nn.Conv2d(in_channels=in_channels, out_channels=out_channels,\n",
    "                              kernel_size=kernel_size, stride=stride, padding=padding)\n",
    "        if norm:\n",
    "            self.norm = get_norm_module(norm)(out_channels)\n",
    "        else:\n",
    "            self.norm = None\n",
    "        \n",
    "    def forward(self, inputs):\n",
    "        out = self.conv(inputs)\n",
    "        if self.norm is not None:\n",
    "            out = self.norm(out)\n",
    "        return F.leaky_relu(out, negative_slope=0.2)"
   ]
  },
  {
   "cell_type": "code",
   "execution_count": 5,
   "metadata": {},
   "outputs": [],
   "source": [
    "class PatchGan(nn.Module):\n",
    "    \n",
    "    def __init__(self, input_channels):\n",
    "        super(PatchGan, self).__init__()\n",
    "        \n",
    "        self.layer1 = ConvNormRelu(in_channels=input_channels, out_channels=64, kernel_size=4,\n",
    "                                        padding=1, stride=2, norm=None)\n",
    "        self.layer2 = ConvNormRelu(in_channels=64, out_channels=128, kernel_size=4,\n",
    "                                        padding=1, stride=2, norm=\"instance\")\n",
    "        self.layer3 = ConvNormRelu(in_channels=128, out_channels=256, kernel_size=4,\n",
    "                                        padding=1, stride=2, norm=\"instance\")\n",
    "        #self.layer4 = ConvBatchNormRelu(in_channels=256, out_channels=512, kernel_size=4,\n",
    "         #                               padding=1, stride=2, batch_norm=True)\n",
    "        self.layer4 = ConvNormRelu(in_channels=256, out_channels=512, kernel_size=4,\n",
    "                                        padding=1, stride=1, norm=\"instance\")\n",
    "        \n",
    "        self.conv_fc = nn.Conv2d(in_channels=512, out_channels=1, kernel_size=4,\n",
    "                                 padding=1, stride=1)\n",
    "    \n",
    "    def forward(self, inputs):\n",
    "        out = self.layer1(inputs)\n",
    "        print(out.shape)\n",
    "        out = self.layer2(out)\n",
    "        print(out.shape)\n",
    "        out = self.layer3(out)\n",
    "        print(out.shape)\n",
    "        out = self.layer4(out)\n",
    "        print(out.shape)\n",
    "        out = self.conv_fc(out)\n",
    "        print(out.shape)\n",
    "        return F.sigmoid(out)"
   ]
  },
  {
   "cell_type": "code",
   "execution_count": 6,
   "metadata": {},
   "outputs": [
    {
     "name": "stdout",
     "output_type": "stream",
     "text": [
      "torch.Size([1, 64, 35, 35])\n",
      "torch.Size([1, 128, 17, 17])\n",
      "torch.Size([1, 256, 8, 8])\n",
      "torch.Size([1, 512, 7, 7])\n",
      "torch.Size([1, 1, 6, 6])\n"
     ]
    },
    {
     "name": "stderr",
     "output_type": "stream",
     "text": [
      "/home/dpakhom1/anaconda3/lib/python3.7/site-packages/torch/nn/functional.py:1006: UserWarning: nn.functional.sigmoid is deprecated. Use torch.sigmoid instead.\n",
      "  warnings.warn(\"nn.functional.sigmoid is deprecated. Use torch.sigmoid instead.\")\n"
     ]
    },
    {
     "data": {
      "text/plain": [
       "tensor([[[[0.5182, 0.4908, 0.4183, 0.5620, 0.4957, 0.4948],\n",
       "          [0.4155, 0.5736, 0.5308, 0.4960, 0.3603, 0.4201],\n",
       "          [0.5741, 0.3917, 0.6676, 0.4266, 0.4624, 0.4744],\n",
       "          [0.6440, 0.5472, 0.4961, 0.4115, 0.4901, 0.5817],\n",
       "          [0.6026, 0.5980, 0.3749, 0.3671, 0.4852, 0.3585],\n",
       "          [0.4968, 0.4225, 0.4962, 0.4581, 0.4968, 0.5066]]]],\n",
       "       grad_fn=<SigmoidBackward>)"
      ]
     },
     "execution_count": 6,
     "metadata": {},
     "output_type": "execute_result"
    }
   ],
   "source": [
    "data = torch.rand((1, 64, 70, 70))\n",
    "model = PatchGan(64)\n",
    "model(data)"
   ]
  },
  {
   "cell_type": "code",
   "execution_count": 10,
   "metadata": {},
   "outputs": [],
   "source": [
    "class ResBlock(nn.Module):\n",
    "    \n",
    "    def __init__(self, in_planes, norm=\"batch\"):\n",
    "        super(ResBlock, self).__init__()\n",
    "        self.pad1 = nn.ReflectionPad2d(1)\n",
    "        self.pad2 = nn.ReflectionPad2d(1)\n",
    "        self.norm1 = get_norm_module(norm)(in_planes)\n",
    "        self.norm2 = get_norm_module(norm)(in_planes)\n",
    "        self.conv1 = nn.Conv2d(in_channels=in_planes, out_channels=in_planes, kernel_size=3)\n",
    "        self.conv2 = nn.Conv2d(in_channels=in_planes, out_channels=in_planes, kernel_size=3)\n",
    "        \n",
    "    def forward(self, inputs):\n",
    "        out = self.conv1(self.pad1(inputs))\n",
    "        out = F.relu(self.norm1(out))\n",
    "        out = self.conv2(self.pad2(out))\n",
    "        out = self.norm2(out)\n",
    "        return out + inputs"
   ]
  },
  {
   "cell_type": "code",
   "execution_count": 11,
   "metadata": {},
   "outputs": [
    {
     "name": "stdout",
     "output_type": "stream",
     "text": [
      "torch.Size([1, 10, 5, 5])\n"
     ]
    }
   ],
   "source": [
    "model = ResBlock(10)\n",
    "data = torch.rand(1, 10, 5, 5)\n",
    "print(model(data).shape)"
   ]
  },
  {
   "cell_type": "code",
   "execution_count": null,
   "metadata": {},
   "outputs": [],
   "source": []
  }
 ],
 "metadata": {
  "kernelspec": {
   "display_name": "Python 3",
   "language": "python",
   "name": "python3"
  },
  "language_info": {
   "codemirror_mode": {
    "name": "ipython",
    "version": 3
   },
   "file_extension": ".py",
   "mimetype": "text/x-python",
   "name": "python",
   "nbconvert_exporter": "python",
   "pygments_lexer": "ipython3",
   "version": "3.7.3"
  }
 },
 "nbformat": 4,
 "nbformat_minor": 2
}
